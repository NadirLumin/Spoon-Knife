{
  "nbformat": 4,
  "nbformat_minor": 0,
  "metadata": {
    "colab": {
      "provenance": []
    },
    "kernelspec": {
      "name": "python3",
      "display_name": "Python 3"
    },
    "language_info": {
      "name": "python"
    }
  },
  "cells": [
    {
      "cell_type": "markdown",
      "source": [
        "# Mini Project: Recommendation Engines\n",
        "\n",
        "Recommendation engines are algorithms designed to provide personalized suggestions or recommendations to users. These systems analyze user behavior, preferences, and interactions with items (products, movies, music, articles, etc.) to predict and offer items that users are likely to be interested in. Recommendation engines play a crucial role in enhancing user experience, driving engagement, and increasing conversion rates in various applications, including e-commerce, entertainment, content platforms, and more.\n",
        "\n",
        "There are generally two approaches taken in collaborative filtering and content-based recommendation engines:\n",
        "\n",
        "**1. Collaborative Filtering:**\n",
        "Collaborative Filtering is a popular approach to building recommendation systems that leverages the collective behavior of users to make personalized recommendations. It is based on the idea that users who have agreed in the past will likely agree in the future. There are two main types of collaborative filtering:\n",
        "\n",
        "- **User-based Collaborative Filtering:** This method finds users similar to the target user based on their past interactions (e.g., ratings or purchases). It then recommends items that similar users have liked but the target user has not interacted with yet.\n",
        "\n",
        "- **Item-based Collaborative Filtering:** In this approach, the system identifies similar items based on user interactions. It recommends items that are similar to the ones the target user has already liked or interacted with.\n",
        "\n",
        "Collaborative filtering does not require any explicit information about items but relies on the similarity between users or items. It is effective in capturing complex patterns and can provide serendipitous recommendations. However, it suffers from the cold-start problem (i.e., difficulty in recommending to new users or items with no interactions) and scalability challenges in large datasets.\n",
        "\n",
        "**2. Content-Based Recommendation:**\n",
        "Content-based recommendation is an alternative approach to building recommendation systems that focuses on the attributes or features of items and users. It leverages the characteristics of items to make recommendations. The key steps involved in content-based recommendation are:\n",
        "\n",
        "- **Feature Extraction:** For each item, relevant features are extracted. For movies, these features could be genre, director, actors, and plot summary.\n",
        "\n",
        "- **User Profile:** A user profile is created based on the items they have interacted with in the past. The user profile contains the weighted importance of features based on their interactions.\n",
        "\n",
        "- **Similarity Calculation:** The similarity between items or between items and the user profile is calculated using similarity metrics like cosine similarity or Euclidean distance.\n",
        "\n",
        "- **Recommendation:** Items that are most similar to the user profile are recommended to the user.\n",
        "\n",
        "Content-based recommendation systems are less affected by the cold-start problem as they can still recommend items based on their features. They are also more interpretable as they rely on item attributes. However, they may miss out on providing serendipitous recommendations and can be limited by the quality of feature extraction and user profiles.\n",
        "\n",
        "**Choosing Between Collaborative Filtering and Content-Based:**\n",
        "Both collaborative filtering and content-based approaches have their strengths and weaknesses. The choice between them depends on the specific requirements of the recommendation system, the type of data available, and the user base. Hybrid approaches that combine collaborative filtering and content-based techniques are also common, aiming to leverage the strengths of both methods and mitigate their weaknesses."
      ],
      "metadata": {
        "id": "fyXucUekO19i"
      }
    },
    {
      "cell_type": "markdown",
      "source": [
        "In this mini-project, you'll be building both content based and collaborative filtering engines for the [MovieLens 25M dataset](https://grouplens.org/datasets/movielens/25m/). The MovieLens 25M dataset is one of the most widely used and popular datasets for building and evaluating recommendation systems. It is provided by the GroupLens Research project, which collects and studies datasets related to movie ratings and recommendations. The MovieLens 25M dataset contains movie ratings and other related information contributed by users of the MovieLens website.\n",
        "\n",
        "**Dataset Details:**\n",
        "- **Size:** The dataset contains approximately 25 million movie ratings.\n",
        "- **Users:** It includes ratings from over 162,000 users.\n",
        "- **Movies:** The dataset consists of ratings for more than 62,000 movies.\n",
        "- **Ratings:** The ratings are provided on a scale of 1 to 5, where 1 is the lowest rating and 5 is the highest.\n",
        "- **Timestamps:** Each rating is associated with a timestamp, indicating when the rating was given.\n",
        "\n",
        "**Data Files:**\n",
        "The dataset is usually split into three CSV files:\n",
        "\n",
        "1. **movies.csv:** Contains information about movies, including the movie ID, title, genres, and release year.\n",
        "   - Columns: movieId, title, genres\n",
        "\n",
        "2. **ratings.csv:** Contains movie ratings provided by users, including the user ID, movie ID, rating, and timestamp.\n",
        "   - Columns: userId, movieId, rating, timestamp\n",
        "\n",
        "3. **tags.csv:** Contains user-generated tags for movies, including the user ID, movie ID, tag, and timestamp.\n",
        "   - Columns: userId, movieId, tag, timestamp"
      ],
      "metadata": {
        "id": "TYuE9O6I2uRY"
      }
    },
    {
      "cell_type": "markdown",
      "source": [
        "First, import all the libraries you'll need."
      ],
      "metadata": {
        "id": "DN0qzP-cRlMo"
      }
    },
    {
      "cell_type": "code",
      "execution_count": 1,
      "metadata": {
        "id": "kLWR1DfQPakn"
      },
      "outputs": [],
      "source": [
        "import zipfile\n",
        "import numpy as np\n",
        "import pandas as pd\n",
        "from urllib.request import urlretrieve\n",
        "from sklearn.metrics.pairwise import cosine_similarity"
      ]
    },
    {
      "cell_type": "markdown",
      "source": [
        "Next, download the relevant components of the MoveLens dataset. Note, these instructions are roughly based on the colab [here](https://colab.research.google.com/github/google/eng-edu/blob/main/ml/recommendation-systems/recommendation-systems.ipynb?utm_source=ss-recommendation-systems&utm_campaign=colab-external&utm_medium=referral&utm_content=recommendation-systems#scrollTo=O3bcgduFo4s6)."
      ],
      "metadata": {
        "id": "iaG6vAKyREej"
      }
    },
    {
      "cell_type": "code",
      "source": [
        "print(\"Downloading movielens data...\")\n",
        "\n",
        "urlretrieve('http://files.grouplens.org/datasets/movielens/ml-100k.zip', 'movielens.zip')\n",
        "zip_ref = zipfile.ZipFile('movielens.zip', 'r')\n",
        "zip_ref.extractall()\n",
        "print(\"Done. Dataset contains:\")\n",
        "print(zip_ref.read('ml-100k/u.info'))\n",
        "\n",
        "ratings_cols = ['user_id', 'movie_id', 'rating', 'unix_timestamp']\n",
        "ratings = pd.read_csv(\n",
        "    'ml-100k/u.data', sep='\\t', names=ratings_cols, encoding='latin-1')\n",
        "\n",
        "# The movies file contains a binary feature for each genre.\n",
        "genre_cols = [\n",
        "    \"genre_unknown\", \"Action\", \"Adventure\", \"Animation\", \"Children\", \"Comedy\",\n",
        "    \"Crime\", \"Documentary\", \"Drama\", \"Fantasy\", \"Film-Noir\", \"Horror\",\n",
        "    \"Musical\", \"Mystery\", \"Romance\", \"Sci-Fi\", \"Thriller\", \"War\", \"Western\"\n",
        "]\n",
        "movies_cols = [\n",
        "    'movie_id', 'title', 'release_date', \"video_release_date\", \"imdb_url\"\n",
        "] + genre_cols\n",
        "movies = pd.read_csv(\n",
        "    'ml-100k/u.item', sep='|', names=movies_cols, encoding='latin-1')"
      ],
      "metadata": {
        "id": "-wCvx2ukPm-3",
        "outputId": "e74784fd-db7b-4c4f-c694-1d9e3d14753a",
        "colab": {
          "base_uri": "https://localhost:8080/"
        }
      },
      "execution_count": 2,
      "outputs": [
        {
          "output_type": "stream",
          "name": "stdout",
          "text": [
            "Downloading movielens data...\n",
            "Done. Dataset contains:\n",
            "b'943 users\\n1682 items\\n100000 ratings\\n'\n"
          ]
        }
      ]
    },
    {
      "cell_type": "markdown",
      "source": [
        "Before doing any kind of machine learning, it's always good to familiarize yourself with the datasets you'lll be working with.\n",
        "\n",
        "Here are your tasks:\n",
        "\n",
        "1. Spend some time familiarizing yourself with both the `movies` and `ratings` dataframes. How many unique user ids are present? How many unique movies are there?\n",
        "2. Create a new dataframe that merges the `movies` and `ratings` tables on 'movie_id'. Only keep the 'user_id', 'title', 'rating' fields in this new dataframe."
      ],
      "metadata": {
        "id": "pLAMVhnbR-Cy"
      }
    },
    {
      "cell_type": "code",
      "source": [
        "# 1. Unique interactor IDs and movies\n",
        "\n",
        "unique_users = ratings['user_id'].nunique()\n",
        "unique_movies = ratings['movie_id'].nunique()\n",
        "print(f\"Number of unique users: {unique_users}\")\n",
        "print(f\"Number of unique movies: {unique_movies}\")"
      ],
      "metadata": {
        "id": "vp7Tx7H_P5f2",
        "outputId": "059ada44-dee2-470b-9275-35bf06dee4e0",
        "colab": {
          "base_uri": "https://localhost:8080/"
        }
      },
      "execution_count": 3,
      "outputs": [
        {
          "output_type": "stream",
          "name": "stdout",
          "text": [
            "Number of unique users: 943\n",
            "Number of unique movies: 1682\n",
            "   user_id                       title  rating\n",
            "0      196                Kolya (1996)       3\n",
            "1      186    L.A. Confidential (1997)       3\n",
            "2       22         Heavyweights (1994)       1\n",
            "3      244  Legends of the Fall (1994)       2\n",
            "4      166         Jackie Brown (1997)       1\n"
          ]
        }
      ]
    },
    {
      "cell_type": "code",
      "source": [
        "# Merged dataframe\n",
        "merged_df = pd.merge(ratings, movies, on='movie_id')\n",
        "merged_df = merged_df[['user_id', 'title', 'rating']]\n",
        "print(merged_df.head())"
      ],
      "metadata": {
        "id": "f6MrymMJRMjB",
        "outputId": "a5c65ec2-67da-4a0d-cc49-3d4fd7a73412",
        "colab": {
          "base_uri": "https://localhost:8080/"
        }
      },
      "execution_count": 5,
      "outputs": [
        {
          "output_type": "stream",
          "name": "stdout",
          "text": [
            "   user_id                       title  rating\n",
            "0      196                Kolya (1996)       3\n",
            "1      186    L.A. Confidential (1997)       3\n",
            "2       22         Heavyweights (1994)       1\n",
            "3      244  Legends of the Fall (1994)       2\n",
            "4      166         Jackie Brown (1997)       1\n"
          ]
        }
      ]
    },
    {
      "cell_type": "markdown",
      "source": [
        "As mentioned in the introduction, content-Based Filtering is a recommendation engine approach that focuses on the attributes or features of items (products, movies, music, articles, etc.) and leverages these features to make personalized recommendations. The underlying idea is to match the characteristics of items with the preferences of users to suggest items that align with their interests. Content-based filtering is particularly useful when explicit user-item interactions (e.g., ratings or purchases) are sparse or unavailable.\n",
        "\n",
        "**Key Steps in Content-Based Filtering:**\n",
        "\n",
        "1. **Feature Extraction:**\n",
        "   - For each item, relevant features are extracted. These features are typically descriptive attributes that can be represented numerically, such as genre, director, actors, author, publication date, and keywords.\n",
        "   - In the case of text-based items, natural language processing techniques may be used to extract features like TF-IDF (Term Frequency-Inverse Document Frequency) scores.\n",
        "\n",
        "2. **User Profile Creation:**\n",
        "   - A user profile is created based on the items they have interacted with in the past. The user profile contains the weighted importance of features based on their interactions.\n",
        "   - For example, if a user has watched several action movies, the action genre feature would receive a higher weight in their profile.\n",
        "\n",
        "3. **Similarity Calculation:**\n",
        "   - The similarity between items or between items and the user profile is calculated using similarity metrics like cosine similarity, Euclidean distance, or Pearson correlation.\n",
        "   - Cosine similarity is commonly used as it measures the cosine of the angle between two vectors, which represents their similarity.\n",
        "\n",
        "4. **Recommendation:**\n",
        "   - Items that are most similar to the user profile are recommended to the user. These are items whose features have the highest similarity scores with the user profile.\n",
        "   - The recommended items are presented as a list sorted by their similarity scores.\n",
        "\n",
        "**Advantages of Content-Based Filtering:**\n",
        "1. **No Cold-Start Problem:** Content-based filtering can make recommendations even for new users with no historical interactions because it relies on item features rather than user history.\n",
        "\n",
        "2. **User Independence:** The recommendations are based solely on the features of items and do not require knowledge of other users' preferences or behavior.\n",
        "\n",
        "3. **Transparency:** Content-based recommendations are interpretable, as they depend on the features of items, making it easier for users to understand why specific items are recommended.\n",
        "\n",
        "4. **Serendipity:** Content-based filtering can recommend items with characteristics not seen before by the user, leading to serendipitous discoveries.\n",
        "\n",
        "5. **Diversity in Recommendations:** The method can offer diverse recommendations since it suggests items with different feature combinations.\n",
        "\n",
        "**Limitations of Content-Based Filtering:**\n",
        "1. **Limited Discovery:** Content-based filtering may struggle to recommend items outside the scope of users' historical interactions or interests.\n",
        "\n",
        "2. **Over-Specialization:** Users may receive recommendations that are too similar to their previous choices, leading to a lack of exposure to new item categories.\n",
        "\n",
        "3. **Dependency on Feature Quality:** The quality and relevance of item features significantly influence the quality of recommendations.\n",
        "\n",
        "4. **Limited for Cold Items:** Content-based filtering can struggle to recommend new items with limited feature information."
      ],
      "metadata": {
        "id": "_U44W0TMT3qf"
      }
    },
    {
      "cell_type": "markdown",
      "source": [
        "Here is your task:\n",
        "\n",
        "1. Write a function that takes in a user id and the dataframe you created before that contains 'user_id', 'title', and 'rating'. The function should return content-based recommendations for this user. Here are steps you can take:\n",
        "\n",
        "  A. Get the user's rated movies\n",
        "\n",
        "  B. Create a TF-IDF matrix using movie genres. Note, this can be extracted from the `movies` dataframe.\n",
        "\n",
        "  C. Compute the cosine similarity between movie genres. Use the [cosine_similarity](https://scikit-learn.org/stable/modules/generated/sklearn.metrics.pairwise.cosine_similarity.html) function.\n",
        "\n",
        "  D. Get the indices of similar movies to those rated by the user based on cosine similarity. Keep only the top 5.\n",
        "\n",
        "  E. Remove duplicates and movies already rated by the user."
      ],
      "metadata": {
        "id": "sbJGD7j7Ui-8"
      }
    },
    {
      "cell_type": "code",
      "source": [
        "from sklearn.feature_extraction.text import TfidfVectorizer\n",
        "\n",
        "def content_based_recommendation(user_id, df):\n",
        "  # A. Get the interactor's rated movies\n",
        "  user_ratings = df[df['user_id'] == user_id]\n",
        "  user_movies = user_ratings['title'].tolist()\n",
        "\n",
        "  # B. Create a TF-IDF matrix utilizing movie genres\n",
        "  tfidf = TfidfVectorizer(stop_words='english')\n",
        "  tfidf_matrix = tfidf.fit_transform(movies['title'])\n",
        "\n",
        "  # C. Compute the cosine similarity between movie genres\n",
        "  cosine_sim = cosine_similarity(tfidf_matrix, tfidf_matrix)\n",
        "\n",
        "  # D. Get the indices of similar movies\n",
        "  movie_indices = pd.Series(movies.index, index=movies['title']).drop_duplicates()\n",
        "\n",
        "  similar_movies = []\n",
        "  for movie in user_movies:\n",
        "      idx = movie_indices[movie]\n",
        "      sim_scores = list(enumerate(cosine_sim[idx]))\n",
        "      sim_scores = sorted(sim_scores, key=lambda x: x[1], reverse=True)\n",
        "      sim_scores = sim_scores[1:6] # Top 5 similar movies\n",
        "      similar_movies_indices = [i[0] for i in sim_scores]\n",
        "      similar_movies.extend(similar_movies_indices)\n",
        "\n",
        "  # E. Remove duplicates and movies already rated\n",
        "  similar_movies = list(set(similar_movies))\n",
        "  recommended_movies = []\n",
        "  for i in similar_movies:\n",
        "    if movies['title'].iloc[i] not in user_movies:\n",
        "      recommended_movies.append(movies['title'].iloc[i])\n",
        "  return recommended_movies[:5] # Return top 5 recommendations"
      ],
      "metadata": {
        "id": "JwBQSC-POTzn"
      },
      "execution_count": 6,
      "outputs": []
    },
    {
      "cell_type": "markdown",
      "source": [
        "The key idea behind collaborative filtering is that users who have agreed in the past will likely agree in the future. Instead of relying on item attributes or user profiles, collaborative filtering identifies patterns of user behavior and item preferences from the interactions present in the data.\n",
        "\n",
        "**Types of Collaborative Filtering:**\n",
        "There are two main types of collaborative filtering:\n",
        "\n",
        "**Collaborative Filtering Process:**\n",
        "The collaborative filtering process typically involves the following steps:\n",
        "\n",
        "1. **Data Collection:**\n",
        "   - Gather data on user-item interactions, such as movie ratings, product purchases, or article clicks.\n",
        "\n",
        "2. **User-Item Matrix:**\n",
        "   - Organize the data into a user-item matrix, where rows represent users, columns represent items, and the entries contain the users' interactions (e.g., ratings).\n",
        "\n",
        "3. **Similarity Calculation:**\n",
        "   - Calculate the similarity between users or items using similarity metrics such as cosine similarity, Pearson correlation, or Jaccard similarity.\n",
        "   - For user-based collaborative filtering, user similarities are calculated, and for item-based collaborative filtering, item similarities are calculated.\n",
        "\n",
        "4. **Neighborhood Selection:**\n",
        "   - For each user or item, select the most similar users or items as the neighborhood.\n",
        "   - The size of the neighborhood (the number of similar users or items to consider) is an important parameter to control the system's behavior.\n",
        "\n",
        "5. **Prediction Generation:**\n",
        "   - Predict the ratings for items that the target user has not yet interacted with by combining the ratings of neighboring users or items.\n",
        "\n",
        "6. **Recommendation Generation:**\n",
        "   - Recommend items with the highest predicted ratings to the target user.\n",
        "\n",
        "**Advantages of Collaborative Filtering using User-Item Interactions:**\n",
        "- Collaborative filtering is based solely on user interactions and does not require knowledge of item attributes, making it useful for cases where item data is sparse or unavailable.\n",
        "- It can provide serendipitous recommendations, suggesting items that users may not have discovered on their own.\n",
        "- Collaborative filtering can be applied in various domains, including e-commerce, music, movie, and content recommendations.\n",
        "\n",
        "**Limitations of Collaborative Filtering:**\n",
        "- The cold-start problem: Collaborative filtering struggles to recommend to new users or items with no or limited interaction history.\n",
        "- It may suffer from sparsity when data is limited or when users have only interacted with a small subset of items.\n",
        "- Scalability issues can arise with large datasets and an increasing number of users or items."
      ],
      "metadata": {
        "id": "2NNt3gHLYDxU"
      }
    },
    {
      "cell_type": "markdown",
      "source": [
        "Here is your task:\n",
        "\n",
        "1. Write a function that takes in a user id and the dataframe you created before that contains 'user_id', 'title', and 'rating'. The function should return collaborative filtering recommendations for this user based on a user-item interaction matrix. Here are steps you can take:\n",
        "\n",
        "  A. Create the user-item matrix using Pandas' [pivot_table](https://pandas.pydata.org/docs/reference/api/pandas.pivot_table.html).\n",
        "\n",
        "  B. Fill missing values with zeros in this matrix.\n",
        "\n",
        "  C. Calculate user-user similarity matrix using cosine similarity.\n",
        "\n",
        "  D. Get the array of similarity scores of the target user with all other users from the similarity matrix.\n",
        "\n",
        "  E. Extract, say the the top 5 most similar users (excluding the target user).\n",
        "\n",
        "  F. Generate movie recommendations based on the most similar users.\n",
        "\n",
        "  G. Remove duplicate movies recommendations."
      ],
      "metadata": {
        "id": "ks4mWyCaYVNY"
      }
    },
    {
      "cell_type": "code",
      "source": [
        "def collaborative_filtering_recommendation(user_id, df):\n",
        "    # A. Create the interactor-item matrix\n",
        "    user_item_matrix = pd.pivot_table(df, values='rating', index='user_id', columns='title', fill_value=0)\n",
        "\n",
        "    # B. Fill missing values with 0\n",
        "    # Already done in pivot_table\n",
        "\n",
        "    # C. Calculate interactor-interactor similarity matrix\n",
        "    user_similarity = cosine_similarity(user_item_matrix)\n",
        "\n",
        "    # D. Get similarity scores of the target interactor\n",
        "    target_user_similarity = user_similarity[user_id - 1] # Assuming user_id starts from 1\n",
        "\n",
        "    # E. Find top N similar interactors\n",
        "    similar_users = np.argsort(target_user_similarity)[::-1][1:6]  # Exclude the target user\n",
        "\n",
        "    # F. Generate movie recommendations\n",
        "    recommendations = []\n",
        "    for user in similar_users:\n",
        "        rated_movies = user_item_matrix.iloc[user].to_dict()\n",
        "        for movie, rating in rated_movies.items():\n",
        "            if rating > 0 and movie not in user_item_matrix.columns[user_item_matrix.loc[user_id] > 0].tolist():\n",
        "              recommendations.append(movie)\n",
        "\n",
        "    # G. Remove duplicate recommendations\n",
        "    recommendations = list(set(recommendations))\n",
        "    return recommendations[:5]  # Return top 5 recommendations"
      ],
      "metadata": {
        "id": "BqZPgKRDWf-c"
      },
      "execution_count": 8,
      "outputs": []
    },
    {
      "cell_type": "markdown",
      "source": [
        "Now, test your recommendations engines! Select a few user ids and generate recommendations using both functions you've written. Are the recommendations similar? Do the recommendations make sense?"
      ],
      "metadata": {
        "id": "-Jj883VAZRNe"
      }
    },
    {
      "cell_type": "code",
      "source": [
        "# Utilize the existing ratings DataFrame as the primary dataset\n",
        "df = merged_df  # Already created in the earlier block and contains user_id, title, and rating\n",
        "\n",
        "# Utilize the existing movies DataFrame\n",
        "movies = movies  # Contains the metadata with 'title' and 'genres'\n",
        "\n",
        "# Combine the binary genre columns into a single 'genres' column\n",
        "genre_cols = [\"genre_unknown\", \"Action\", \"Adventure\", \"Animation\", \"Children\", \"Comedy\",\n",
        "              \"Crime\", \"Documentary\", \"Drama\", \"Fantasy\", \"Film-Noir\", \"Horror\",\n",
        "              \"Musical\", \"Mystery\", \"Romance\", \"Sci-Fi\", \"Thriller\", \"War\", \"Western\"]\n",
        "\n",
        "# Create the 'genres' column by concatenating genre names for each movie\n",
        "movies['genres'] = movies[genre_cols].apply(lambda row: ' '.join([genre for genre in genre_cols if row[genre] == 1]), axis=1)\n",
        "\n",
        "# Content-based recommendation system function\n",
        "def content_based_recommendation(user_id, df):\n",
        "    from sklearn.feature_extraction.text import TfidfVectorizer\n",
        "    from sklearn.metrics.pairwise import cosine_similarity\n",
        "\n",
        "    # A. Get the interactor's rated movies\n",
        "    user_ratings = df[df['user_id'] == user_id]\n",
        "    user_movies = user_ratings['title'].tolist()\n",
        "\n",
        "    # B. Create a TF-IDF matrix utilizing movie genres\n",
        "    tfidf = TfidfVectorizer(stop_words='english')\n",
        "    tfidf_matrix = tfidf.fit_transform(movies['genres'])\n",
        "\n",
        "    # C. Compute the cosine similarity between movie genres\n",
        "    cosine_sim = cosine_similarity(tfidf_matrix, tfidf_matrix)\n",
        "\n",
        "    # D. Get the indices of similar movies\n",
        "    movie_indices = pd.Series(movies.index, index=movies['title']).drop_duplicates()\n",
        "    similar_movies = []\n",
        "\n",
        "    for movie in user_movies:\n",
        "        # Ensure the movie exists in movie_indices\n",
        "        idx = movie_indices.get(movie, None)\n",
        "        if idx is not None:\n",
        "            # Debugging: Verify cosine similarity access\n",
        "            assert 0 <= idx < cosine_sim.shape[0], f\"Index {idx} out of bounds for cosine_sim\"\n",
        "\n",
        "            # Fetch and sort similarity scores\n",
        "            sim_scores = list(enumerate(cosine_sim[idx]))\n",
        "            sim_scores = sorted(sim_scores, key=lambda x: x[1], reverse=True)\n",
        "            sim_scores = sim_scores[1:6]  # Top 5 similar movies\n",
        "\n",
        "            # Get movie indices from sorted scores\n",
        "            similar_movies_indices = [i[0] for i in sim_scores]\n",
        "            similar_movies += movies.iloc[similar_movies_indices]['title'].tolist()\n",
        "        else:\n",
        "            print(f\"Movie '{movie}' not found in movie indices. Skipping.\")\n",
        "\n",
        "    # Remove duplicates and return recommendations\n",
        "    return list(set(similar_movies))\n",
        "\n",
        "# Collaborative filtering recommendation system function\n",
        "def collaborative_filtering_recommendation(user_id, df):\n",
        "    from sklearn.metrics.pairwise import cosine_similarity\n",
        "    import numpy as np\n",
        "\n",
        "    # A. Create the interactor-item matrix\n",
        "    user_item_matrix = pd.pivot_table(df, values='rating', index='user_id', columns='title', fill_value=0)\n",
        "\n",
        "    # C. Calculate interactor-interactor similarity matrix\n",
        "    user_similarity = cosine_similarity(user_item_matrix)\n",
        "\n",
        "    # D. Get similarity scores for the target interactor\n",
        "    target_user_similarity = user_similarity[user_id - 1]  # Assuming \"user_id\" starts from 1\n",
        "\n",
        "    # E. Find top N similar interactors\n",
        "    similar_users = np.argsort(target_user_similarity)[::-1][1:6]  # Exclude the target interactor\n",
        "\n",
        "    # F. Generate movie recommendations\n",
        "    recommendations = []\n",
        "    for user in similar_users:\n",
        "        rated_movies = user_item_matrix.iloc[user].to_dict()\n",
        "        for movie, rating in rated_movies.items():\n",
        "            if rating > 0 and movie not in user_item_matrix.columns[user_item_matrix.loc[user_id] > 0].tolist():\n",
        "                recommendations.append(movie)\n",
        "\n",
        "    # Remove duplicates and return recommendations\n",
        "    return list(set(recommendations))[:5]  # Return top 5 recommendations\n",
        "\n",
        "# Test the recommendation systems utilizing the actual dataset\n",
        "user_id_to_test = ratings['user_id'].sample(1).iloc[0] # Randomly select a interactor ID from the existing ratings data\n",
        "\n",
        "print(\"Testing Content-Based Recommendation System:\")\n",
        "content_based_recommendations = content_based_recommendation(user_id_to_test, df)\n",
        "print(f\"Recommendations for Interactor {user_id_to_test}: {content_based_recommendations}\")\n",
        "\n",
        "print(\"\\nTesting Collaborative Filtering Recommendation System:\")\n",
        "collaborative_recommendations = collaborative_filtering_recommendation(user_id_to_test, df)\n",
        "print(f\"Recommendations for Interactor {user_id_to_test}: {collaborative_recommendations}\")"
      ],
      "metadata": {
        "id": "kt9nuOTNJXz8",
        "outputId": "2f86f6cc-8240-490d-d78a-f2898163e70e",
        "colab": {
          "base_uri": "https://localhost:8080/"
        }
      },
      "execution_count": 12,
      "outputs": [
        {
          "output_type": "stream",
          "name": "stdout",
          "text": [
            "Testing Content-Based Recommendation System:\n",
            "Recommendations for Interactor 138: ['Herbie Rides Again (1974)', 'Firm, The (1993)', 'Spice World (1997)', 'Star Trek VI: The Undiscovered Country (1991)', 'Grosse Pointe Blank (1997)', 'Independence Day (ID4) (1996)', 'Homeward Bound: The Incredible Journey (1993)', 'English Patient, The (1996)', 'Funny Face (1957)', 'Big Sleep, The (1946)', 'Magnificent Seven, The (1954)', 'My Fair Lady (1964)', 'Good, The Bad and The Ugly, The (1966)', 'Rock, The (1996)', 'Long Kiss Goodnight, The (1996)', 'Incognito (1997)', 'Game, The (1997)', 'Apocalypse Now (1979)', 'Relative Fear (1994)', 'Platoon (1986)', 'Die Hard 2 (1990)', 'Star Trek III: The Search for Spock (1984)', 'Reservoir Dogs (1992)', 'Playing God (1997)', 'Dead Man Walking (1995)', 'White Balloon, The (1995)', 'Eat Drink Man Woman (1994)', \"Carlito's Way (1993)\", 'Laura (1944)', 'Fargo (1996)', 'Ed Wood (1994)', 'Four Weddings and a Funeral (1994)', 'Wings of Desire (1987)', 'Rob Roy (1995)', 'Birdcage, The (1996)', 'Bonnie and Clyde (1967)', 'Jurassic Park (1993)', \"Antonia's Line (1995)\", 'Some Like It Hot (1959)', 'While You Were Sleeping (1995)', 'Die Hard (1988)', 'Usual Suspects, The (1995)', 'Victor/Victoria (1982)', 'Mars Attacks! (1996)', 'Brazil (1985)', 'Aristocats, The (1970)', 'Dead Presidents (1995)', 'Star Trek: First Contact (1996)', 'Phantom, The (1996)', 'Bridge on the River Kwai, The (1957)', 'Much Ado About Nothing (1993)', 'Swingers (1996)', 'Mark of Zorro, The (1940)', 'Everyone Says I Love You (1996)', 'Menace II Society (1993)', 'Daylight (1996)', 'Donnie Brasco (1997)', 'Diabolique (1996)', 'Farewell to Arms, A (1932)', 'Absolute Power (1997)', 'Young Guns (1988)', 'L.A. Confidential (1997)', 'American in Paris, An (1951)', 'Colonel Chabert, Le (1994)', 'Twin Town (1997)', 'Daytrippers, The (1996)', 'Disclosure (1994)', 'Graduate, The (1967)', 'Amadeus (1984)', 'Star Trek: The Wrath of Khan (1982)', \"Singin' in the Rain (1952)\", 'Treasure of the Sierra Madre, The (1948)', 'White Squall (1996)', 'American President, The (1995)', 'Pinocchio (1940)', 'Patton (1970)', 'I.Q. (1994)', 'Star Wars (1977)', 'Manhattan (1979)', 'Once Upon a Time in America (1984)', 'Welcome to the Dollhouse (1995)', 'Lashou shentan (1992)', \"Bram Stoker's Dracula (1992)\", 'Godfather: Part II, The (1974)', 'Thinner (1996)', 'Butch Cassidy and the Sundance Kid (1969)', 'Palmetto (1998)', 'Kiss the Girls (1997)', 'To Wong Foo, Thanks for Everything! Julie Newmar (1995)', 'Casablanca (1942)', \"McHale's Navy (1997)\", 'Young Guns II (1990)', 'Fox and the Hound, The (1981)', 'Set It Off (1996)', 'GoodFellas (1990)', 'Supercop (1992)', 'Bananas (1971)', 'Fugitive, The (1993)', 'Angels and Insects (1995)', 'Mediterraneo (1991)', 'Phenomenon (1996)', 'Brothers McMullen, The (1995)', 'Carpool (1996)', \"Breakfast at Tiffany's (1961)\", 'Belle de jour (1967)', 'Jackie Brown (1997)', 'Canadian Bacon (1994)', 'Great Race, The (1965)', 'Dolores Claiborne (1994)', 'Aliens (1986)', 'Woman in Question, The (1950)', 'Dr. Strangelove or: How I Learned to Stop Worrying and Love the Bomb (1963)', 'Billy Madison (1995)', 'Flipper (1996)', 'Romeo Is Bleeding (1993)', 'Dial M for Murder (1954)', 'Grease (1978)', 'Scream (1996)', 'Vertigo (1958)', 'Corrina, Corrina (1994)', 'Thin Man, The (1934)', 'Clerks (1994)', 'Hudsucker Proxy, The (1994)', 'Fly Away Home (1996)', 'Sword in the Stone, The (1963)', 'Clear and Present Danger (1994)', 'Lone Star (1996)', 'Murder at 1600 (1997)', \"Joe's Apartment (1996)\", 'Chinatown (1974)', \"Mr. Holland's Opus (1995)\", 'Jingle All the Way (1996)', 'Duck Soup (1933)', 'Aladdin and the King of Thieves (1996)', \"What's Eating Gilbert Grape (1993)\", 'Village of the Damned (1995)', 'Twister (1996)', 'Henry V (1989)', 'Something to Talk About (1995)', 'Sting, The (1973)', 'Mad Love (1995)', 'Desperate Measures (1998)', 'Starship Troopers (1997)', 'Silence of the Lambs, The (1991)', 'Man Who Would Be King, The (1975)', 'Chain Reaction (1996)']\n",
            "\n",
            "Testing Collaborative Filtering Recommendation System:\n",
            "Recommendations for Interactor 138: ['My Life as a Dog (Mitt liv som hund) (1985)', 'Spitfire Grill, The (1996)', 'Around the World in 80 Days (1956)', 'Sleepless in Seattle (1993)', 'Omen, The (1976)']\n"
          ]
        }
      ]
    }
  ]
}